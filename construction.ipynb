{
 "cells": [
  {
   "cell_type": "code",
   "execution_count": null,
   "id": "f28fbc9c",
   "metadata": {},
   "outputs": [],
   "source": [
    "from selenium import webdriver\n",
    "from selenium.webdriver.support.ui import WebDriverWait\n",
    "from selenium.webdriver.common.by import By\n",
    "from selenium.webdriver.support import expected_conditions as EC\n",
    "from selenium.webdriver.chrome.service import Service\n",
    "from selenium.webdriver.chrome.options import Options\n",
    "from webdriver_manager.chrome import ChromeDriverManager"
   ]
  },
  {
   "cell_type": "code",
   "execution_count": 3,
   "id": "a5934561",
   "metadata": {},
   "outputs": [],
   "source": [
    "def initialize_driver():\n",
    "    \"\"\"Inicializa o driver do Chrome com configurações otimizadas\"\"\"\n",
    "    try:\n",
    "        chrome_options = Options()\n",
    "        chrome_options.add_argument('--no-sandbox')\n",
    "        chrome_options.add_argument('--disable-dev-shm-usage')\n",
    "        chrome_options.add_argument('--disable-gpu')\n",
    "        \n",
    "        service = Service(ChromeDriverManager().install())\n",
    "        driver = webdriver.Chrome(service=service, options=chrome_options)\n",
    "        driver.get(\"http://www.nfevinhedo.com.br\")\n",
    "        driver.maximize_window()\n",
    "        \n",
    "        return driver\n",
    "        \n",
    "    except Exception as e:\n",
    "        raise\n",
    "\n",
    "\n",
    "driver = initialize_driver()"
   ]
  },
  {
   "cell_type": "code",
   "execution_count": null,
   "id": "4281c6cd",
   "metadata": {},
   "outputs": [],
   "source": [
    "iframe = driver.switch_to.frame(driver.find_element(By.ID, \"conteudo_window\"))\n",
    "\n",
    "driver.switch_to.frame(iframe)\n",
    "\n"
   ]
  },
  {
   "cell_type": "code",
   "execution_count": null,
   "id": "743a724b",
   "metadata": {},
   "outputs": [
    {
     "ename": "NoSuchElementException",
     "evalue": "Message: no such element: Unable to locate element: {\"method\":\"xpath\",\"selector\":\"//img[@src='../images/entrar_nfe.gif']\"}\n  (Session info: chrome=138.0.7204.185); For documentation on this error, please visit: https://www.selenium.dev/documentation/webdriver/troubleshooting/errors#nosuchelementexception\nStacktrace:\n\tGetHandleVerifier [0x0x58ba83+63395]\n\tGetHandleVerifier [0x0x58bac4+63460]\n\t(No symbol) [0x0x3d2113]\n\t(No symbol) [0x0x41a85e]\n\t(No symbol) [0x0x41abfb]\n\t(No symbol) [0x0x462f92]\n\t(No symbol) [0x0x43f3f4]\n\t(No symbol) [0x0x4607ba]\n\t(No symbol) [0x0x43f1a6]\n\t(No symbol) [0x0x40e7b2]\n\t(No symbol) [0x0x40f654]\n\tGetHandleVerifier [0x0x808883+2672035]\n\tGetHandleVerifier [0x0x803cba+2652634]\n\tGetHandleVerifier [0x0x5b2bca+223466]\n\tGetHandleVerifier [0x0x5a2cb8+158168]\n\tGetHandleVerifier [0x0x5a978d+185517]\n\tGetHandleVerifier [0x0x593b78+96408]\n\tGetHandleVerifier [0x0x593d02+96802]\n\tGetHandleVerifier [0x0x57e90a+9770]\n\tBaseThreadInitThunk [0x0x75d95d49+25]\n\tRtlInitializeExceptionChain [0x0x7769d1ab+107]\n\tRtlGetAppContainerNamedObjectPath [0x0x7769d131+561]\n",
     "output_type": "error",
     "traceback": [
      "\u001b[31m---------------------------------------------------------------------------\u001b[39m",
      "\u001b[31mNoSuchElementException\u001b[39m                    Traceback (most recent call last)",
      "\u001b[36mCell\u001b[39m\u001b[36m \u001b[39m\u001b[32mIn[5]\u001b[39m\u001b[32m, line 1\u001b[39m\n\u001b[32m----> \u001b[39m\u001b[32m1\u001b[39m \u001b[43mdriver\u001b[49m\u001b[43m.\u001b[49m\u001b[43mfind_element\u001b[49m\u001b[43m(\u001b[49m\u001b[43mBy\u001b[49m\u001b[43m.\u001b[49m\u001b[43mXPATH\u001b[49m\u001b[43m,\u001b[49m\u001b[43m \u001b[49m\u001b[33;43m\"\u001b[39;49m\u001b[33;43m//img[@src=\u001b[39;49m\u001b[33;43m'\u001b[39;49m\u001b[33;43m../images/entrar_nfe.gif\u001b[39;49m\u001b[33;43m'\u001b[39;49m\u001b[33;43m]\u001b[39;49m\u001b[33;43m\"\u001b[39;49m\u001b[43m)\u001b[49m.click()\n",
      "\u001b[36mFile \u001b[39m\u001b[32mg:\\Drives compartilhados\\BANCO DE DADOS T.I\\Automacoes\\automacoes-VANIA\\automacao-LANCAMENTO NF VINHEDO\\venv\\Lib\\site-packages\\selenium\\webdriver\\remote\\webdriver.py:922\u001b[39m, in \u001b[36mWebDriver.find_element\u001b[39m\u001b[34m(self, by, value)\u001b[39m\n\u001b[32m    919\u001b[39m         \u001b[38;5;28;01mraise\u001b[39;00m NoSuchElementException(\u001b[33mf\u001b[39m\u001b[33m\"\u001b[39m\u001b[33mCannot locate relative element with: \u001b[39m\u001b[38;5;132;01m{\u001b[39;00mby.root\u001b[38;5;132;01m}\u001b[39;00m\u001b[33m\"\u001b[39m)\n\u001b[32m    920\u001b[39m     \u001b[38;5;28;01mreturn\u001b[39;00m elements[\u001b[32m0\u001b[39m]\n\u001b[32m--> \u001b[39m\u001b[32m922\u001b[39m \u001b[38;5;28;01mreturn\u001b[39;00m \u001b[38;5;28;43mself\u001b[39;49m\u001b[43m.\u001b[49m\u001b[43mexecute\u001b[49m\u001b[43m(\u001b[49m\u001b[43mCommand\u001b[49m\u001b[43m.\u001b[49m\u001b[43mFIND_ELEMENT\u001b[49m\u001b[43m,\u001b[49m\u001b[43m \u001b[49m\u001b[43m{\u001b[49m\u001b[33;43m\"\u001b[39;49m\u001b[33;43musing\u001b[39;49m\u001b[33;43m\"\u001b[39;49m\u001b[43m:\u001b[49m\u001b[43m \u001b[49m\u001b[43mby\u001b[49m\u001b[43m,\u001b[49m\u001b[43m \u001b[49m\u001b[33;43m\"\u001b[39;49m\u001b[33;43mvalue\u001b[39;49m\u001b[33;43m\"\u001b[39;49m\u001b[43m:\u001b[49m\u001b[43m \u001b[49m\u001b[43mvalue\u001b[49m\u001b[43m}\u001b[49m\u001b[43m)\u001b[49m[\u001b[33m\"\u001b[39m\u001b[33mvalue\u001b[39m\u001b[33m\"\u001b[39m]\n",
      "\u001b[36mFile \u001b[39m\u001b[32mg:\\Drives compartilhados\\BANCO DE DADOS T.I\\Automacoes\\automacoes-VANIA\\automacao-LANCAMENTO NF VINHEDO\\venv\\Lib\\site-packages\\selenium\\webdriver\\remote\\webdriver.py:454\u001b[39m, in \u001b[36mWebDriver.execute\u001b[39m\u001b[34m(self, driver_command, params)\u001b[39m\n\u001b[32m    451\u001b[39m response = cast(RemoteConnection, \u001b[38;5;28mself\u001b[39m.command_executor).execute(driver_command, params)\n\u001b[32m    453\u001b[39m \u001b[38;5;28;01mif\u001b[39;00m response:\n\u001b[32m--> \u001b[39m\u001b[32m454\u001b[39m     \u001b[38;5;28;43mself\u001b[39;49m\u001b[43m.\u001b[49m\u001b[43merror_handler\u001b[49m\u001b[43m.\u001b[49m\u001b[43mcheck_response\u001b[49m\u001b[43m(\u001b[49m\u001b[43mresponse\u001b[49m\u001b[43m)\u001b[49m\n\u001b[32m    455\u001b[39m     response[\u001b[33m\"\u001b[39m\u001b[33mvalue\u001b[39m\u001b[33m\"\u001b[39m] = \u001b[38;5;28mself\u001b[39m._unwrap_value(response.get(\u001b[33m\"\u001b[39m\u001b[33mvalue\u001b[39m\u001b[33m\"\u001b[39m, \u001b[38;5;28;01mNone\u001b[39;00m))\n\u001b[32m    456\u001b[39m     \u001b[38;5;28;01mreturn\u001b[39;00m response\n",
      "\u001b[36mFile \u001b[39m\u001b[32mg:\\Drives compartilhados\\BANCO DE DADOS T.I\\Automacoes\\automacoes-VANIA\\automacao-LANCAMENTO NF VINHEDO\\venv\\Lib\\site-packages\\selenium\\webdriver\\remote\\errorhandler.py:232\u001b[39m, in \u001b[36mErrorHandler.check_response\u001b[39m\u001b[34m(self, response)\u001b[39m\n\u001b[32m    230\u001b[39m         alert_text = value[\u001b[33m\"\u001b[39m\u001b[33malert\u001b[39m\u001b[33m\"\u001b[39m].get(\u001b[33m\"\u001b[39m\u001b[33mtext\u001b[39m\u001b[33m\"\u001b[39m)\n\u001b[32m    231\u001b[39m     \u001b[38;5;28;01mraise\u001b[39;00m exception_class(message, screen, stacktrace, alert_text)  \u001b[38;5;66;03m# type: ignore[call-arg]  # mypy is not smart enough here\u001b[39;00m\n\u001b[32m--> \u001b[39m\u001b[32m232\u001b[39m \u001b[38;5;28;01mraise\u001b[39;00m exception_class(message, screen, stacktrace)\n",
      "\u001b[31mNoSuchElementException\u001b[39m: Message: no such element: Unable to locate element: {\"method\":\"xpath\",\"selector\":\"//img[@src='../images/entrar_nfe.gif']\"}\n  (Session info: chrome=138.0.7204.185); For documentation on this error, please visit: https://www.selenium.dev/documentation/webdriver/troubleshooting/errors#nosuchelementexception\nStacktrace:\n\tGetHandleVerifier [0x0x58ba83+63395]\n\tGetHandleVerifier [0x0x58bac4+63460]\n\t(No symbol) [0x0x3d2113]\n\t(No symbol) [0x0x41a85e]\n\t(No symbol) [0x0x41abfb]\n\t(No symbol) [0x0x462f92]\n\t(No symbol) [0x0x43f3f4]\n\t(No symbol) [0x0x4607ba]\n\t(No symbol) [0x0x43f1a6]\n\t(No symbol) [0x0x40e7b2]\n\t(No symbol) [0x0x40f654]\n\tGetHandleVerifier [0x0x808883+2672035]\n\tGetHandleVerifier [0x0x803cba+2652634]\n\tGetHandleVerifier [0x0x5b2bca+223466]\n\tGetHandleVerifier [0x0x5a2cb8+158168]\n\tGetHandleVerifier [0x0x5a978d+185517]\n\tGetHandleVerifier [0x0x593b78+96408]\n\tGetHandleVerifier [0x0x593d02+96802]\n\tGetHandleVerifier [0x0x57e90a+9770]\n\tBaseThreadInitThunk [0x0x75d95d49+25]\n\tRtlInitializeExceptionChain [0x0x7769d1ab+107]\n\tRtlGetAppContainerNamedObjectPath [0x0x7769d131+561]\n"
     ]
    }
   ],
   "source": [
    "\n",
    "\n",
    "driver.find_element(By.XPATH, \"//img[contains(@onclick, 'controlaSimplesNacional.php')]\").click()"
   ]
  }
 ],
 "metadata": {
  "kernelspec": {
   "display_name": "venv",
   "language": "python",
   "name": "python3"
  },
  "language_info": {
   "codemirror_mode": {
    "name": "ipython",
    "version": 3
   },
   "file_extension": ".py",
   "mimetype": "text/x-python",
   "name": "python",
   "nbconvert_exporter": "python",
   "pygments_lexer": "ipython3",
   "version": "3.13.3"
  }
 },
 "nbformat": 4,
 "nbformat_minor": 5
}
